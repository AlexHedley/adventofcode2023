{
 "cells": [
  {
   "attachments": {},
   "cell_type": "markdown",
   "metadata": {},
   "source": [
    "# Plot Data in a .NET Polyglot Notebook\n",
    "\n",
    "This code demonstrates how to use [ScottPlot](https://scottplot.net) to display data visually inside a .NET Interactive notebook"
   ]
  },
  {
   "attachments": {},
   "cell_type": "markdown",
   "metadata": {},
   "source": [
    "## Setup"
   ]
  },
  {
   "cell_type": "code",
   "execution_count": 3,
   "metadata": {
    "dotnet_interactive": {
     "language": "csharp"
    },
    "polyglot_notebook": {
     "kernelName": "csharp"
    }
   },
   "outputs": [
    {
     "data": {
      "text/html": [
       "<div><div></div><div></div><div><strong>Installed Packages</strong><ul><li><span>ScottPlot, 4.1.69</span></li></ul></div></div>"
      ]
     },
     "metadata": {},
     "output_type": "display_data"
    }
   ],
   "source": [
    "// Install the ScottPlot NuGet package\n",
    "#r \"nuget:ScottPlot\"\n",
    "\n",
    "// Setup a custom formatter to display plots as images\n",
    "using Microsoft.DotNet.Interactive.Formatting;\n",
    "Formatter.Register(typeof(ScottPlot.Plot), (p, w) => \n",
    "    w.Write(((ScottPlot.Plot)p).GetImageHtml()), HtmlFormatter.MimeType);"
   ]
  },
  {
   "attachments": {},
   "cell_type": "markdown",
   "metadata": {},
   "source": [
    "## Quickstart"
   ]
  },
  {
   "cell_type": "code",
   "execution_count": 12,
   "metadata": {
    "dotnet_interactive": {
     "language": "csharp"
    },
    "polyglot_notebook": {
     "kernelName": "csharp"
    }
   },
   "outputs": [
    {
     "data": {
      "text/html": [
       "<img src=\"data:image/png;base64,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\"></img>"
      ]
     },
     "metadata": {},
     "output_type": "display_data"
    }
   ],
   "source": [
    "// create sample data\n",
    "\n",
    "// A: 19, 13, 30 @ -2, 1, -2\n",
    "double[] x1 = { 19, 17, 16, 15, 14, 13, 12, 11, 10, 9, 8, 7, 6, 5, 4, 3, 2, 1 };\n",
    "double[] y1 = { 13, 14, 15, 16, 17, 18, 19, 20, 21, 22, 23, 24, 25, 26, 27, 28, 29, 30 };\n",
    "\n",
    "// B: 18, 19, 22 @ -1, -1, -2\n",
    "double[] x2 = { 18, 17, 16, 15, 14, 13, 12, 11, 10, 9, 8, 7, 6, 5, 4, 3, 2 };\n",
    "double[] y2 = { 19, 18, 17, 16, 15, 14, 13, 12, 11, 10, 9, 8, 7, 6, 5, 4, 3 };\n",
    "\n",
    "// C: 20, 25, 34 @ -2, -2, -4\n",
    "double[] x3 = { 20, 18 };\n",
    "double[] y3 = { 25, 23 };\n",
    "\n",
    "// D: 12, 31, 28 @ -1, -2, -1\n",
    "double[] x4 = { 12, 11 };\n",
    "double[] y4 = { 31, 29 };\n",
    "\n",
    "// E: 20, 19, 15 @ 1, -5, -3\n",
    "double[] x5 = { 20, 21 };\n",
    "double[] y5 = { 19, 14 };\n",
    "\n",
    "// plot the data\n",
    "ScottPlot.Plot plt = new(400, 300);\n",
    "plt.AddScatter(x1, y1);\n",
    "plt.AddScatter(x2, y2);\n",
    "plt.AddScatter(x3, y3);\n",
    "plt.AddScatter(x4, y4);\n",
    "plt.AddScatter(x5, y5);\n",
    "\n",
    "// show the plot\n",
    "plt"
   ]
  }
 ],
 "metadata": {
  "kernelspec": {
   "display_name": ".NET (C#)",
   "language": "C#",
   "name": ".net-csharp"
  },
  "language_info": {
   "name": "polyglot-notebook"
  },
  "polyglot_notebook": {
   "kernelInfo": {
    "defaultKernelName": "csharp",
    "items": [
     {
      "aliases": [],
      "languageName": "csharp",
      "name": "csharp"
     }
    ]
   }
  }
 },
 "nbformat": 4,
 "nbformat_minor": 2
}
